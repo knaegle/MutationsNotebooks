{
 "cells": [
  {
   "cell_type": "markdown",
   "metadata": {},
   "source": [
    "# Are pathogenic mutations more likely to have modifications nearby?\n",
    "In studyBias.ipynb we explored the relationship between annotations, PTMs, and mutations.  We found that there is a clear study bias for proteins that contain pathogenic mutations, having more GO terms, PTMs, and mutations.  Therefore, here we will consider only mutations coming from these heavily studied proteins as we explore the relationship between mutations and nearby PTMs."
   ]
  },
  {
   "cell_type": "code",
   "execution_count": 5,
   "metadata": {
    "collapsed": false
   },
   "outputs": [
    {
     "data": {
      "text/plain": [
       "GO            14806\n",
       "Mutations     20603\n",
       "PTMs          16362\n",
       "Sequence     601237\n",
       "dtype: int64"
      ]
     },
     "execution_count": 5,
     "metadata": {},
     "output_type": "execute_result"
    }
   ],
   "source": [
    "# Setup the workspace, \n",
    "from proteomeScoutAPI import ProteomeScoutAPI\n",
    "import numpy as np\n",
    "from scipy import stats\n",
    "import matplotlib.pyplot as plt\n",
    "from pylab import *\n",
    "import pandas as pd\n",
    "from scipy import stats \n",
    "import pickle\n",
    "import random\n",
    "\n",
    "\n",
    "[df_path, protID_path] = pickle.load(open(\"pathoProteins.p\", \"r\"))\n",
    "%matplotlib inline\n",
    "#proteomeScoutFile = '/Users/knaegle/HG/knaegle_repo/mutationsAnalysis/data/proteomescout_mammalia_20150712.tsv'\n",
    "proteomeScoutFile = '/Users/alex/Dropbox/WASHU/naegle/mutants_paper/data/v1.0a_July_2015/proteomescout_everything_20150712.tsv'\n",
    "\n",
    "PTM_API = ProteomeScoutAPI(proteomeScoutFile)\n",
    "\n",
    "modWindow = 8 #change this to \n",
    "pValCutoff = 0.05\n",
    "\n",
    "df_path.describe()\n",
    "df_path.sum()\n"
   ]
  },
  {
   "cell_type": "code",
   "execution_count": null,
   "metadata": {
    "collapsed": true
   },
   "outputs": [],
   "source": []
  },
  {
   "cell_type": "code",
   "execution_count": 6,
   "metadata": {
    "collapsed": false
   },
   "outputs": [
    {
     "data": {
      "text/plain": [
       "ID                  1274721274721274721274721274721274721274721274...\n",
       "mod_pos             1713114415916016617524424725620921381601802913...\n",
       "amino acid          LRDLGRQHPAPGRDVRKIEHRLRRVRKDARRSAVGDRRRVTRRGRQ...\n",
       "pathoBit                                                         1901\n",
       "Phosphoserine                                                    3189\n",
       "Phosphothreonine                                                 1627\n",
       "Phosphotyrosine                                                  1643\n",
       "N6-acetyllysine                                                  1462\n",
       "Ubiquitination                                                   1237\n",
       "dtype: object"
      ]
     },
     "execution_count": 6,
     "metadata": {},
     "output_type": "execute_result"
    }
   ],
   "source": [
    "#### Create an object of all mutations that exist on proteins that have at least one pathogenic mutation.\n",
    "# Also, add the number of nearby modifications of the major types, where nearby is ste on +/-7 amino acids\n",
    "d = pd.DataFrame(columns=['ID', 'mod_pos', 'amino acid', 'pathoBit', 'Phosphoserine', 'Phosphothreonine', 'Phosphotyrosine',\n",
    "'N6-acetyllysine', 'Ubiquitination'])\n",
    "\n",
    "for ID in protID_path:\n",
    "    mutations = PTM_API.get_mutations(ID)\n",
    "   # print ID\n",
    "    for mut in mutations:\n",
    "        pos, from_res, to_res, patho_status, evidence = mut\n",
    "        \n",
    "        mods = PTM_API.get_nearbyPTMs(ID, int(pos), modWindow)\n",
    "        \n",
    "        pathoBit = 0\n",
    "        if patho_status == 'Pathogenic' or patho_status=='pathogenic':\n",
    "            pathoBit = 1\n",
    "        #vec =   ([ID, pos, from_res, pathoBit], [np.zeros((1,(len(d.columns)-4)))])  \n",
    "        temp = pd.Series({'ID': ID, 'mod_pos':pos, 'amino acid':from_res, 'pathoBit':pathoBit, \n",
    "                            'Phosphoserine':0, 'Phosphothreonine':0, 'Phosphotyrosine':0, 'N6-acetyllysine':0, \n",
    "                            'Ubiquitination':0})\n",
    "        #temp = pd.Series([ID, pos, from_res, pathoBit], [np.zeros((1,(len(d.columns)-4)))], index=d.columns)    \n",
    "        #temp = pd.DataFrame(np.zeros((1,len(mods_d.columns))), columns = mods_d.columns)\n",
    "                    \n",
    "        for mod in mods:\n",
    "            mod_pos, aa, mod_type = mod          \n",
    "            try:\n",
    "                temp[mod_type] +=1\n",
    "            except:\n",
    "                val = 1\n",
    "                #print \"ignoring %s\"%(mod_type)\n",
    "        d = d.append(temp, ignore_index='True') \n",
    "        #print len(d)\n",
    "        \n",
    "d.sum()"
   ]
  },
  {
   "cell_type": "markdown",
   "metadata": {},
   "source": [
    "## Checking for enrichment of mods near pathogenic mutations\n",
    "Here is a description of the mutations and nearby modifications that make up the dataset we will consider, based on those annotations that come from proteins that have at least one pathogenic mutation.  We will use the Fisher Exact test to determine if there are enrichment differences. "
   ]
  },
  {
   "cell_type": "code",
   "execution_count": 8,
   "metadata": {
    "collapsed": false
   },
   "outputs": [
    {
     "data": {
      "text/html": [
       "<div>\n",
       "<table border=\"1\" class=\"dataframe\">\n",
       "  <thead>\n",
       "    <tr style=\"text-align: right;\">\n",
       "      <th></th>\n",
       "      <th>pathoBit</th>\n",
       "      <th>Phosphoserine</th>\n",
       "      <th>Phosphothreonine</th>\n",
       "      <th>Phosphotyrosine</th>\n",
       "      <th>N6-acetyllysine</th>\n",
       "      <th>Ubiquitination</th>\n",
       "    </tr>\n",
       "  </thead>\n",
       "  <tbody>\n",
       "    <tr>\n",
       "      <th>count</th>\n",
       "      <td>18115.000000</td>\n",
       "      <td>18115.000000</td>\n",
       "      <td>18115.000000</td>\n",
       "      <td>18115.000000</td>\n",
       "      <td>18115.000000</td>\n",
       "      <td>18115.000000</td>\n",
       "    </tr>\n",
       "    <tr>\n",
       "      <th>mean</th>\n",
       "      <td>0.101684</td>\n",
       "      <td>0.108915</td>\n",
       "      <td>0.064367</td>\n",
       "      <td>0.067568</td>\n",
       "      <td>0.048523</td>\n",
       "      <td>0.047695</td>\n",
       "    </tr>\n",
       "    <tr>\n",
       "      <th>std</th>\n",
       "      <td>0.302240</td>\n",
       "      <td>0.311541</td>\n",
       "      <td>0.245412</td>\n",
       "      <td>0.251011</td>\n",
       "      <td>0.214875</td>\n",
       "      <td>0.213127</td>\n",
       "    </tr>\n",
       "    <tr>\n",
       "      <th>min</th>\n",
       "      <td>0.000000</td>\n",
       "      <td>0.000000</td>\n",
       "      <td>0.000000</td>\n",
       "      <td>0.000000</td>\n",
       "      <td>0.000000</td>\n",
       "      <td>0.000000</td>\n",
       "    </tr>\n",
       "    <tr>\n",
       "      <th>25%</th>\n",
       "      <td>0.000000</td>\n",
       "      <td>0.000000</td>\n",
       "      <td>0.000000</td>\n",
       "      <td>0.000000</td>\n",
       "      <td>0.000000</td>\n",
       "      <td>0.000000</td>\n",
       "    </tr>\n",
       "    <tr>\n",
       "      <th>50%</th>\n",
       "      <td>0.000000</td>\n",
       "      <td>0.000000</td>\n",
       "      <td>0.000000</td>\n",
       "      <td>0.000000</td>\n",
       "      <td>0.000000</td>\n",
       "      <td>0.000000</td>\n",
       "    </tr>\n",
       "    <tr>\n",
       "      <th>75%</th>\n",
       "      <td>0.000000</td>\n",
       "      <td>0.000000</td>\n",
       "      <td>0.000000</td>\n",
       "      <td>0.000000</td>\n",
       "      <td>0.000000</td>\n",
       "      <td>0.000000</td>\n",
       "    </tr>\n",
       "    <tr>\n",
       "      <th>max</th>\n",
       "      <td>1.000000</td>\n",
       "      <td>1.000000</td>\n",
       "      <td>1.000000</td>\n",
       "      <td>1.000000</td>\n",
       "      <td>1.000000</td>\n",
       "      <td>1.000000</td>\n",
       "    </tr>\n",
       "  </tbody>\n",
       "</table>\n",
       "</div>"
      ],
      "text/plain": [
       "           pathoBit  Phosphoserine  Phosphothreonine  Phosphotyrosine  \\\n",
       "count  18115.000000   18115.000000      18115.000000     18115.000000   \n",
       "mean       0.101684       0.108915          0.064367         0.067568   \n",
       "std        0.302240       0.311541          0.245412         0.251011   \n",
       "min        0.000000       0.000000          0.000000         0.000000   \n",
       "25%        0.000000       0.000000          0.000000         0.000000   \n",
       "50%        0.000000       0.000000          0.000000         0.000000   \n",
       "75%        0.000000       0.000000          0.000000         0.000000   \n",
       "max        1.000000       1.000000          1.000000         1.000000   \n",
       "\n",
       "       N6-acetyllysine  Ubiquitination  \n",
       "count     18115.000000    18115.000000  \n",
       "mean          0.048523        0.047695  \n",
       "std           0.214875        0.213127  \n",
       "min           0.000000        0.000000  \n",
       "25%           0.000000        0.000000  \n",
       "50%           0.000000        0.000000  \n",
       "75%           0.000000        0.000000  \n",
       "max           1.000000        1.000000  "
      ]
     },
     "execution_count": 8,
     "metadata": {},
     "output_type": "execute_result"
    }
   ],
   "source": [
    "# Select only unique mutations based on protein and position.  Prioritize pathogenicity and binarize nearby mods \n",
    "dCollapse = pd.DataFrame(columns=d.columns)\n",
    "for uniqueKey, row in d.groupby(['ID', 'mod_pos', 'amino acid']):\n",
    "    temp = pd.DataFrame([[uniqueKey[0], uniqueKey[1], uniqueKey[2], int(row['pathoBit'].sum() > 0), \n",
    "                         int(row['Phosphoserine'].sum() > 0), int(row['Phosphothreonine'].sum() > 0), \n",
    "                        int(row['Phosphotyrosine'].sum() > 0), int(row['N6-acetyllysine'].sum() > 0), \n",
    "                       int(row['Ubiquitination'].sum() > 0)]], columns=dCollapse.columns)\n",
    "    dCollapse = dCollapse.append(temp)\n",
    "dCollapse.describe()"
   ]
  },
  {
   "cell_type": "code",
   "execution_count": 11,
   "metadata": {
    "collapsed": false
   },
   "outputs": [
    {
     "data": {
      "text/plain": [
       "Index([u'Phosphoserine', u'Phosphothreonine', u'Phosphotyrosine',\n",
       "       u'N6-acetyllysine', u'Ubiquitination'],\n",
       "      dtype='object')"
      ]
     },
     "execution_count": 11,
     "metadata": {},
     "output_type": "execute_result"
    }
   ],
   "source": [
    " d.columns[-5:]"
   ]
  },
  {
   "cell_type": "code",
   "execution_count": 30,
   "metadata": {
    "collapsed": false
   },
   "outputs": [],
   "source": [
    "def FDR(pArr, alpha):\n",
    "    \"\"\"\n",
    "    False Discovery Rate (FDR)\n",
    "    Returns a Q value for significant values in pArr for a target FDR of alpha\n",
    "    \n",
    "    pArr  : Array of p-values\n",
    "    alpha : Confidence threshold\n",
    "    \"\"\"\n",
    "    \n",
    "    # number of p-values\n",
    "    m = len(pArr)\n",
    "    \n",
    "    # sort the p-values (smallest first)\n",
    "    pValSort = sorted(pArr, key=lambda x: float(x))\n",
    "        \n",
    "    # assuming there are no rejected hypotheses at all\n",
    "    pAdj = 0; \n",
    "    \n",
    "    # cycle through each p-value\n",
    "    for i in range (0, len(pValSort)):\n",
    "        pi = pValSort[i]\n",
    "        j = i+1;\n",
    "        # print \"Comparing %0.E to %0.2f\"%(pi, (j*alpha/m))\n",
    "        if(pi <= (j*alpha/m)):\n",
    "            pAdj = pi\n",
    "        else:\n",
    "            # if the p-value is greater use the previously set\n",
    "            # adjusted p-value\n",
    "            return pAdj"
   ]
  },
  {
   "cell_type": "code",
   "execution_count": 19,
   "metadata": {
    "collapsed": false
   },
   "outputs": [],
   "source": [
    "def printPathoModStats(d):\n",
    "    \"\"\"\n",
    "    Check for enrichment of pathogenic mutations near sites of modifications\n",
    "    \n",
    "    d :  binarized data frame defined above\n",
    "    \"\"\"\n",
    "\n",
    "    # get number of mutation sites    \n",
    "    N = len(d['pathoBit'])\n",
    "    \n",
    "    # get the number of mutation sites associated with disease    \n",
    "    K = d['pathoBit'].sum()\n",
    "    \n",
    "    pvalueArr = []\n",
    "    strSig = ''\n",
    "    alpha = 0.05\n",
    "    \n",
    "    # for each of the modification types\n",
    "    for mods in d.columns[-5:]:\n",
    "        \n",
    "        # number of mutation sites which have a modification \n",
    "        # of type $mods nearby\n",
    "        n = len(d[d[mods]==1])\n",
    "\n",
    "        # number of disease-related mutation which have a modification \n",
    "        # of type $mods nearby\n",
    "        k = len(d[(d['pathoBit']==1) & (d[mods]==1)])\n",
    "        \n",
    "        # use the Fisher's exact test to take the following \n",
    "        # contigency table \n",
    "        # \n",
    "        #  \n",
    "        #                        PATHOGENIC   NON-PATHOGENIC\n",
    "        #  MUTATIONS NEAR SITE |   k              n-k\n",
    "        #  MUTATIONS ANYWHERE  |   K              N-K\n",
    "        #\n",
    "        # And ask if the difference between the observations might occur by chance - the p\n",
    "        # value reports on the likelyhood of finding pathogenic mutations near a site and non\n",
    "        # pathogenic mutants away from a site occuring by chance vs. what we see - lower means\n",
    "        # more sure it's a real effect\n",
    "        oddsratio, pvalue = stats.fisher_exact([[k, n-k], [K, N-K]], alternative='greater')\n",
    "        pvalueArr.append(pvalue)\n",
    "        strSig = ''\n",
    "        \n",
    "        # for examples where the p-value is less than the defined alpha append a *\n",
    "        if pvalue <= alpha:\n",
    "            strSig = '*' \n",
    "        print \"%2s %17s:\\t %2.E \\t(N=%d, n=%d, K=%d, k=%d)\"%(strSig, mods, pvalue, N, n, K, k)\n",
    "        \n",
    "    # use the false discovery rate calculate the adjusted p-value\n",
    "    p_adjust = FDR(pvalueArr, alpha)\n",
    "    print \"adjusted p-value is %0.3f\"%(p_adjust)\n",
    "\n",
    "        \n",
    "    \n"
   ]
  },
  {
   "cell_type": "code",
   "execution_count": 31,
   "metadata": {
    "collapsed": false
   },
   "outputs": [
    {
     "name": "stdout",
     "output_type": "stream",
     "text": [
      " *     Phosphoserine:\t 3E-02 \t(N=18115, n=1973, K=1842, k=228)\n",
      "    Phosphothreonine:\t 1E-01 \t(N=18115, n=1166, K=1842, k=132)\n",
      " *   Phosphotyrosine:\t 4E-02 \t(N=18115, n=1224, K=1842, k=144)\n",
      "     N6-acetyllysine:\t 4E-01 \t(N=18115, n=879, K=1842, k=93)\n",
      " *    Ubiquitination:\t 1E-06 \t(N=18115, n=864, K=1842, k=134)\n",
      "adjusted p-value is 0.000\n"
     ]
    }
   ],
   "source": [
    "printPathoModStats(dCollapse)"
   ]
  },
  {
   "cell_type": "markdown",
   "metadata": {},
   "source": [
    "# What is the distribution of amino acid types\n",
    "Is there anything significant about the type of amino acids mutated and associated with pathogenicity?"
   ]
  },
  {
   "cell_type": "code",
   "execution_count": 37,
   "metadata": {
    "collapsed": false
   },
   "outputs": [
    {
     "name": "stdout",
     "output_type": "stream",
     "text": [
      "  F:\t 3E-04 \t(N=18115, n=480, K=1842, k=26)\n",
      "  I:\t 2E-04 \t(N=18115, n=718, K=1842, k=44)\n",
      "  R:\t 1E-14 \t(N=18115, n=2595, K=1842, k=400)\n"
     ]
    }
   ],
   "source": [
    "# for each unique amino acid calculate whether there is over or under-representation (two-tailed test)\n",
    "\n",
    "# Get the number of mutation sites and the number of pathogenic mutations (N and K respectively)\n",
    "N = len(dCollapse['pathoBit'])\n",
    "K = dCollapse['pathoBit'].sum()\n",
    "\n",
    "runningSumCheck = 0\n",
    "aaDict = {}\n",
    "\n",
    "# cycle through each amino acid, collecting all the sites where\n",
    "# that amino acid is mutated (row)\n",
    "for uniqueKey, row in dCollapse.groupby(['amino acid']):\n",
    "    \n",
    "    # get current amino acids and number of mutation sites on that amino acid\n",
    "    aa = uniqueKey[0]\n",
    "    n = len(dCollapse[dCollapse['amino acid']==aa]) # aka len(row)\n",
    "    \n",
    "    # save the number of times that amino acid is observed on a mutation site\n",
    "    aaDict[aa] = n\n",
    "    \n",
    "    # increment for book keeping\n",
    "    runningSumCheck += n\n",
    "    \n",
    "    # get the number of occurences where a mutation to the $aa amino acid represents\n",
    "    # a pathogenic mutation\n",
    "    k = len(dCollapse[(dCollapse['amino acid']==aa) & (dCollapse['pathoBit']==1)])\n",
    "    \n",
    "    # use the Fisher's exact test to take the following \n",
    "    # contigency table \n",
    "    # \n",
    "    #  \n",
    "    #                        PATHOGENIC   NON-PATHOGENIC\n",
    "    #  MUTATIONS ON AA $aa |   k              n-k\n",
    "    #  MUTATIONS ANYWHERE  |   K              N-K\n",
    "    #\n",
    "    # Smaller numbers mean we preferentially see pathogenic mutations on\n",
    "    # some amino acid and less frequently see mutations on that amino\n",
    "    # acid which are not pathogenic\n",
    "    #    \n",
    "    oddsratio, pvalue = stats.fisher_exact([[k, n-k], [K, N-K]])\n",
    "\n",
    "    # Bonferroni correction, alpha at 0.05\n",
    "    if pvalue <= pValCutoff/20: \n",
    "        print \"%3s:\\t %0.E \\t(N=%d, n=%d, K=%d, k=%d)\"%(aa, pvalue, N, n, K, k)\n",
    "        \n",
    "if runningSumCheck != N:\n",
    "    print \"Error in Parity: Sum is %d instead of %d\"%(runningSumCheck, N)\n",
    "    \n",
    "\n"
   ]
  },
  {
   "cell_type": "markdown",
   "metadata": {},
   "source": [
    "## Examine random site-mutation enrichment\n",
    "Since there is a misbalance for arginines as having pathogenicity, we checked to see if there was enrichment in nearby PTMs for any randomly selected mutation set based on selecting for the same distribution of amino acids. In other words, taking the same data set by randomly reshuffling which mutations were pathogenic and which were not, do we find a specific enrichment of pathogenic mutations near sites?\n",
    "\n",
    "To do this, we create a new set based on selecting random permutations of the lsits that define particular amino acid types rebuild a fake patho set that is defined based on distribution of amino acids then check for enrichment of nearby mods\n"
   ]
  },
  {
   "cell_type": "code",
   "execution_count": 114,
   "metadata": {
    "collapsed": false
   },
   "outputs": [
    {
     "name": "stdout",
     "output_type": "stream",
     "text": [
      "Printing observed enrichments for random sets. Remember expected rate of seeing a p-value <=0.05 is 2.50 times\n",
      "Run 1\n",
      "       Phosphoserine:\t 3E-01 \t(N=18115, n=1973, K=1842, k=207)\n",
      "    Phosphothreonine:\t 2E-01 \t(N=18115, n=1166, K=1842, k=128)\n",
      "     Phosphotyrosine:\t 7E-01 \t(N=18115, n=1224, K=1842, k=118)\n",
      "     N6-acetyllysine:\t 2E-01 \t(N=18115, n=879, K=1842, k=97)\n",
      "      Ubiquitination:\t 3E-01 \t(N=18115, n=864, K=1842, k=94)\n",
      "adjusted p-value is 0.000\n",
      "Run 2\n",
      "       Phosphoserine:\t 9E-01 \t(N=18115, n=1973, K=1842, k=184)\n",
      "    Phosphothreonine:\t 5E-01 \t(N=18115, n=1166, K=1842, k=120)\n",
      "     Phosphotyrosine:\t 2E-01 \t(N=18115, n=1224, K=1842, k=136)\n",
      "     N6-acetyllysine:\t 4E-01 \t(N=18115, n=879, K=1842, k=92)\n",
      "      Ubiquitination:\t 6E-01 \t(N=18115, n=864, K=1842, k=85)\n",
      "adjusted p-value is 0.000\n",
      "Run 3\n",
      "       Phosphoserine:\t 8E-01 \t(N=18115, n=1973, K=1842, k=190)\n",
      "    Phosphothreonine:\t 4E-01 \t(N=18115, n=1166, K=1842, k=123)\n",
      "     Phosphotyrosine:\t 9E-01 \t(N=18115, n=1224, K=1842, k=109)\n",
      "     N6-acetyllysine:\t 1E+00 \t(N=18115, n=879, K=1842, k=70)\n",
      "      Ubiquitination:\t 8E-01 \t(N=18115, n=864, K=1842, k=82)\n",
      "adjusted p-value is 0.000\n",
      "Run 4\n",
      "       Phosphoserine:\t 4E-01 \t(N=18115, n=1973, K=1842, k=206)\n",
      "    Phosphothreonine:\t 2E-01 \t(N=18115, n=1166, K=1842, k=129)\n",
      "     Phosphotyrosine:\t 9E-01 \t(N=18115, n=1224, K=1842, k=111)\n",
      "     N6-acetyllysine:\t 3E-01 \t(N=18115, n=879, K=1842, k=95)\n",
      "      Ubiquitination:\t 4E-01 \t(N=18115, n=864, K=1842, k=91)\n",
      "adjusted p-value is 0.000\n",
      "Run 5\n",
      "       Phosphoserine:\t 7E-01 \t(N=18115, n=1973, K=1842, k=194)\n",
      "    Phosphothreonine:\t 9E-01 \t(N=18115, n=1166, K=1842, k=104)\n",
      "     Phosphotyrosine:\t 4E-01 \t(N=18115, n=1224, K=1842, k=127)\n",
      "     N6-acetyllysine:\t 7E-01 \t(N=18115, n=879, K=1842, k=85)\n",
      "      Ubiquitination:\t 6E-01 \t(N=18115, n=864, K=1842, k=87)\n",
      "adjusted p-value is 0.000\n",
      "Run 6\n",
      "       Phosphoserine:\t 8E-01 \t(N=18115, n=1973, K=1842, k=189)\n",
      "    Phosphothreonine:\t 6E-01 \t(N=18115, n=1166, K=1842, k=115)\n",
      "     Phosphotyrosine:\t 7E-01 \t(N=18115, n=1224, K=1842, k=118)\n",
      "     N6-acetyllysine:\t 4E-01 \t(N=18115, n=879, K=1842, k=91)\n",
      "      Ubiquitination:\t 3E-01 \t(N=18115, n=864, K=1842, k=92)\n",
      "adjusted p-value is 0.000\n",
      "Run 7\n",
      "       Phosphoserine:\t 3E-01 \t(N=18115, n=1973, K=1842, k=209)\n",
      "    Phosphothreonine:\t 4E-01 \t(N=18115, n=1166, K=1842, k=122)\n",
      "     Phosphotyrosine:\t 1E+00 \t(N=18115, n=1224, K=1842, k=96)\n",
      "     N6-acetyllysine:\t 1E-01 \t(N=18115, n=879, K=1842, k=101)\n",
      "      Ubiquitination:\t 2E-01 \t(N=18115, n=864, K=1842, k=97)\n",
      "adjusted p-value is 0.000\n",
      "Run 8\n",
      " *     Phosphoserine:\t 2E-03 \t(N=18115, n=1973, K=1842, k=243)\n",
      "    Phosphothreonine:\t 6E-01 \t(N=18115, n=1166, K=1842, k=115)\n",
      "     Phosphotyrosine:\t 2E-01 \t(N=18115, n=1224, K=1842, k=135)\n",
      "     N6-acetyllysine:\t 7E-01 \t(N=18115, n=879, K=1842, k=84)\n",
      "      Ubiquitination:\t 5E-01 \t(N=18115, n=864, K=1842, k=88)\n",
      "adjusted p-value is 0.002\n",
      "Run 9\n",
      "       Phosphoserine:\t 7E-01 \t(N=18115, n=1973, K=1842, k=193)\n",
      "    Phosphothreonine:\t 6E-01 \t(N=18115, n=1166, K=1842, k=116)\n",
      "     Phosphotyrosine:\t 4E-01 \t(N=18115, n=1224, K=1842, k=127)\n",
      "     N6-acetyllysine:\t 5E-01 \t(N=18115, n=879, K=1842, k=89)\n",
      "      Ubiquitination:\t 4E-01 \t(N=18115, n=864, K=1842, k=90)\n",
      "adjusted p-value is 0.000\n"
     ]
    }
   ],
   "source": [
    "numRepeats = 10\n",
    "print \"Printing observed enrichments for random sets. Remember expected rate of seeing a p-value <=%0.2f is %1.2f times\"%(pValCutoff, pValCutoff*5*numRepeats)\n",
    "for i in range(1,numRepeats):\n",
    "    \n",
    "    # create an empty dataframe using the original column names\n",
    "    dS = pd.DataFrame(columns=dCollapse.columns)\n",
    "    \n",
    "    # for each different amino acid\n",
    "    for uniqueKey, row in dCollapse.groupby(['amino acid']):\n",
    "        aa = uniqueKey[0]\n",
    "        \n",
    "        # this is just row (..)\n",
    "        aaMuts = dCollapse[dCollapse['amino acid']==aa]\n",
    "\n",
    "        # totally randomize the order of each of the mutation sites\n",
    "        # associated with mutations of residue aa\n",
    "        aaShuffled = aaMuts.iloc[np.random.permutation(aaDict[aa])]\n",
    "        \n",
    "        # have to explicity set index values so we can assign a subsection\n",
    "        aaShuffled.index = range(0,len(aaShuffled))\n",
    "\n",
    "        # Determine the number of pathogenic mutations associated with sites\n",
    "        num = len(dCollapse[(dCollapse['amino acid']==aa) & (dCollapse['pathoBit']==1)])\n",
    "        \n",
    "        # set the first $num sites to be pathogenic and the rest to be not\n",
    "        aaShuffled.loc[0:num, 'pathoBit'] = 1\n",
    "        aaShuffled.loc[num:len(aaMuts), 'pathoBit'] = 0\n",
    "        \n",
    "        # sanity check!\n",
    "        if num != aaShuffled['pathoBit'].sum():\n",
    "            print \"Problem for %s: wanted %d and retrieved %d\"%(aa, num, aaShuffled['pathoBit'].sum())\n",
    "            print \"\\t number of amino acids in set is %d and I have length of set %d\"%(aaDict[aa], len(aaShuffled))\n",
    "            \n",
    "        # finally, append this set of data to the synthetic dataframe being created!\n",
    "        dS = dS.append(aaShuffled)\n",
    "    # now print enrichment\n",
    "    print \"Run %d\"%(i)\n",
    "    printPathoModStats(dS)"
   ]
  },
  {
   "cell_type": "code",
   "execution_count": null,
   "metadata": {
    "collapsed": true
   },
   "outputs": [],
   "source": []
  }
 ],
 "metadata": {
  "kernelspec": {
   "display_name": "Python 2",
   "language": "python",
   "name": "python2"
  },
  "language_info": {
   "codemirror_mode": {
    "name": "ipython",
    "version": 2
   },
   "file_extension": ".py",
   "mimetype": "text/x-python",
   "name": "python",
   "nbconvert_exporter": "python",
   "pygments_lexer": "ipython2",
   "version": "2.7.10"
  }
 },
 "nbformat": 4,
 "nbformat_minor": 0
}
