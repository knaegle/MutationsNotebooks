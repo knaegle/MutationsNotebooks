{
 "cells": [
  {
   "cell_type": "markdown",
   "metadata": {},
   "source": [
    "# Is there study bias on proteins with pathogenic mutations?\n",
    "We are going to explore the relationship between mutations and PTMs.  Specifially, we will test the hypothesis that pathogenic mutations are more likely to have PTMs nearby.  Before we begin, we must first explore what dataset of mutations and proteins we should consider. This code will explore whether there is study bias on proteins with pathogenic mutations, indicating we should control for study bias.\n",
    "\n",
    "This code is specific for the **dbSNP** mutations dataset."
   ]
  },
  {
   "cell_type": "code",
   "execution_count": 30,
   "metadata": {
    "collapsed": false
   },
   "outputs": [],
   "source": [
    "# Setup the workspace, \n",
    "from proteomeScoutAPI import ProteomeScoutAPI\n",
    "import numpy as np\n",
    "from scipy import stats\n",
    "import matplotlib.pyplot as plt\n",
    "from pylab import *\n",
    "import pandas as pd \n",
    "import pickle\n",
    "\n",
    "#set this to 0 if you would like to perform analysis on the entire set, 1 means we will remove extreme \n",
    "# outlier proteins in terms of lenght, GO annotations, mutations, or PTMS\n",
    "FILTER = 1 \n",
    "\n",
    "# load the ProteomeScout data (all data from the ProtomeScoutAPI)\n",
    "%matplotlib inline\n",
    "#proteomeScoutFile = '/Users/knaegle/HG/knaegle_repo/mutationsAnalysis/data/proteomescout_mammalia_20150201.tsv'\n",
    "proteomeScoutFile = '/Users/alex/Dropbox/WASHU/naegle/mutants_paper/data/proteomescout_mammalia_20150726.tsv'\n",
    "\n",
    "PTM_API = ProteomeScoutAPI(proteomeScoutFile)\n"
   ]
  },
  {
   "cell_type": "code",
   "execution_count": 32,
   "metadata": {
    "collapsed": false
   },
   "outputs": [],
   "source": [
    "# get all human protein IDs - uniKeys becomes a unique list of the IDs \n",
    "# associated with human protein\n",
    "uniKeys = PTM_API.uniqueKeys\n",
    "humanIds = []\n",
    "for key in uniKeys:\n",
    "    species = PTM_API.get_species(key)\n",
    "    if species == 'homo sapiens':\n",
    "        humanIds.append(key)\n"
   ]
  },
  {
   "cell_type": "code",
   "execution_count": 33,
   "metadata": {
    "collapsed": false
   },
   "outputs": [
    {
     "name": "stdout",
     "output_type": "stream",
     "text": [
      "The number of proteins being examined is: 21968\n"
     ]
    }
   ],
   "source": [
    "print \"The number of proteins being examined is: %i\" % (len(humanIds))"
   ]
  },
  {
   "cell_type": "code",
   "execution_count": 35,
   "metadata": {
    "collapsed": false
   },
   "outputs": [
    {
     "name": "stdout",
     "output_type": "stream",
     "text": [
      "Error: Not the same number of annotations (43) and mutations (27)\n",
      "\n",
      "Error, not adding ID:49255 to dictionary since there was a problem\n",
      "Error: Not the same number of annotations (7) and mutations (5)\n",
      "\n",
      "Error, not adding ID:49574 to dictionary since there was a problem\n",
      "Error: Not the same number of annotations (9) and mutations (7)\n",
      "\n",
      "Error, not adding ID:53705 to dictionary since there was a problem\n",
      "Error: Not the same number of annotations (13) and mutations (11)\n",
      "\n",
      "Error, not adding ID:53797 to dictionary since there was a problem\n",
      "Error: Not the same number of annotations (14) and mutations (12)\n",
      "\n",
      "Error, not adding ID:53906 to dictionary since there was a problem\n",
      "Error: Not the same number of annotations (10) and mutations (6)\n",
      "\n",
      "Error, not adding ID:114257 to dictionary since there was a problem\n",
      "Error: Not the same number of annotations (9) and mutations (7)\n",
      "\n",
      "Error, not adding ID:114267 to dictionary since there was a problem\n",
      "Error: Not the same number of annotations (11) and mutations (9)\n",
      "\n",
      "Error, not adding ID:114360 to dictionary since there was a problem\n",
      "Error: Not the same number of annotations (19) and mutations (17)\n",
      "\n",
      "Error, not adding ID:125153 to dictionary since there was a problem\n",
      "Error: Not the same number of annotations (284) and mutations (166)\n",
      "\n",
      "Error, not adding ID:125174 to dictionary since there was a problem\n",
      "Error: Not the same number of annotations (76) and mutations (56)\n",
      "\n",
      "Error, not adding ID:125182 to dictionary since there was a problem\n",
      "Error: Not the same number of annotations (8) and mutations (3)\n",
      "\n",
      "Error, not adding ID:155029 to dictionary since there was a problem\n",
      "Error: Not the same number of annotations (8) and mutations (6)\n",
      "\n",
      "Error, not adding ID:203402 to dictionary since there was a problem\n"
     ]
    }
   ],
   "source": [
    "# for every protein get the number of GO terms, PTMs and mutations. Collect a flag if at least one mutation is \n",
    "# known to be pathogenic so we can separate those later\n",
    "protDict = {}\n",
    "for ID in humanIds:\n",
    "    tempProtDict = {}\n",
    "    #handle an error \n",
    "    tempProtDict['sequence'] = PTM_API.get_sequence(ID)\n",
    "    tempProtDict['GO_terms'] = PTM_API.get_GO(ID)\n",
    "    tempProtDict['mutations'] = PTM_API.get_mutations(ID)\n",
    "    tempProtDict['PTMs'] = PTM_API.get_PTMs(ID)\n",
    "    \n",
    "    # mutation will be set of 1 or 2 in case of an error, so this just\n",
    "    # checks that and acts accordingly\n",
    "    if not isinstance(tempProtDict['mutations'] , (int, long)):\n",
    "        protDict[ID] = tempProtDict\n",
    "    else:\n",
    "        print \"Error, not adding ID:%s to dictionary since there was a problem\"%(ID)\n",
    "    "
   ]
  },
  {
   "cell_type": "code",
   "execution_count": 36,
   "metadata": {
    "collapsed": false
   },
   "outputs": [
    {
     "name": "stdout",
     "output_type": "stream",
     "text": [
      "After parsing for mutations and what not we are dealing with 21955 protein \n"
     ]
    }
   ],
   "source": [
    "print \"After parsing for mutations and what not we are dealing with %i protein \" % len(protDict)"
   ]
  },
  {
   "cell_type": "code",
   "execution_count": 5,
   "metadata": {
    "collapsed": false
   },
   "outputs": [
    {
     "data": {
      "text/html": [
       "<div>\n",
       "<table border=\"1\" class=\"dataframe\">\n",
       "  <thead>\n",
       "    <tr style=\"text-align: right;\">\n",
       "      <th></th>\n",
       "      <th>GO</th>\n",
       "      <th>Mutations</th>\n",
       "      <th>PTMs</th>\n",
       "      <th>Sequence</th>\n",
       "    </tr>\n",
       "  </thead>\n",
       "  <tbody>\n",
       "    <tr>\n",
       "      <th>count</th>\n",
       "      <td>21955.000000</td>\n",
       "      <td>21955.000000</td>\n",
       "      <td>21955.000000</td>\n",
       "      <td>21955.000000</td>\n",
       "    </tr>\n",
       "    <tr>\n",
       "      <th>mean</th>\n",
       "      <td>7.893464</td>\n",
       "      <td>2.935550</td>\n",
       "      <td>14.112093</td>\n",
       "      <td>624.852517</td>\n",
       "    </tr>\n",
       "    <tr>\n",
       "      <th>std</th>\n",
       "      <td>11.023557</td>\n",
       "      <td>13.804495</td>\n",
       "      <td>23.513187</td>\n",
       "      <td>635.596062</td>\n",
       "    </tr>\n",
       "    <tr>\n",
       "      <th>min</th>\n",
       "      <td>0.000000</td>\n",
       "      <td>0.000000</td>\n",
       "      <td>1.000000</td>\n",
       "      <td>10.000000</td>\n",
       "    </tr>\n",
       "    <tr>\n",
       "      <th>25%</th>\n",
       "      <td>0.000000</td>\n",
       "      <td>0.000000</td>\n",
       "      <td>3.000000</td>\n",
       "      <td>296.000000</td>\n",
       "    </tr>\n",
       "    <tr>\n",
       "      <th>50%</th>\n",
       "      <td>4.000000</td>\n",
       "      <td>1.000000</td>\n",
       "      <td>7.000000</td>\n",
       "      <td>469.000000</td>\n",
       "    </tr>\n",
       "    <tr>\n",
       "      <th>75%</th>\n",
       "      <td>11.000000</td>\n",
       "      <td>2.000000</td>\n",
       "      <td>17.000000</td>\n",
       "      <td>750.000000</td>\n",
       "    </tr>\n",
       "    <tr>\n",
       "      <th>max</th>\n",
       "      <td>159.000000</td>\n",
       "      <td>1338.000000</td>\n",
       "      <td>1210.000000</td>\n",
       "      <td>34350.000000</td>\n",
       "    </tr>\n",
       "  </tbody>\n",
       "</table>\n",
       "</div>"
      ],
      "text/plain": [
       "                 GO     Mutations          PTMs      Sequence\n",
       "count  21955.000000  21955.000000  21955.000000  21955.000000\n",
       "mean       7.893464      2.935550     14.112093    624.852517\n",
       "std       11.023557     13.804495     23.513187    635.596062\n",
       "min        0.000000      0.000000      1.000000     10.000000\n",
       "25%        0.000000      0.000000      3.000000    296.000000\n",
       "50%        4.000000      1.000000      7.000000    469.000000\n",
       "75%       11.000000      2.000000     17.000000    750.000000\n",
       "max      159.000000   1338.000000   1210.000000  34350.000000"
      ]
     },
     "execution_count": 5,
     "metadata": {},
     "output_type": "execute_result"
    }
   ],
   "source": [
    "# create matched vectors of our items of interest\n",
    "num_GO = []\n",
    "num_muts = []\n",
    "num_PTMs = []\n",
    "seqLength = []\n",
    "pathoStatus = []\n",
    "protIds = []\n",
    "\n",
    "# for each ID in the protein dictionary\n",
    "for ID in protDict:\n",
    "    val = 0\n",
    "    \n",
    "    # check if that mutation is associated with the word pathogenic - this is the keyword used\n",
    "    # by dbSNP to indicate a mutation is associated with a disease\n",
    "    try: \n",
    "        for m in protDict[ID]['mutations']:\n",
    "            if m[3] == 'Pathogenic' or m[3]=='pathogenic':\n",
    "                val = 1\n",
    "    except Exception, e:\n",
    "        print \"Error with accessing ID %s\"%(ID)\n",
    "        \n",
    "    # set the pathogenic states\n",
    "    pathoStatus.append(val)\n",
    "    \n",
    "    ## increment the various lists with the number of \n",
    "    # GO terms\n",
    "    num_GO.append(len(protDict[ID]['GO_terms']))\n",
    "    \n",
    "    # mutations\n",
    "    num_muts.append(len(protDict[ID]['mutations']))\n",
    "    \n",
    "    # PTMs\n",
    "    num_PTMs.append(len(protDict[ID]['PTMs']))\n",
    "    \n",
    "    ## and the sequence length\n",
    "    seqLength.append(len(protDict[ID]['sequence']))\n",
    "    protIds.append(ID)\n",
    "    \n",
    "# Having cycled through each protein construct a summary Pandas dataframe    \n",
    "# of the relevant number of each type of information\n",
    "df = pd.DataFrame({'GO': num_GO,\n",
    "                   'Mutations': num_muts,\n",
    "                   'PTMs': num_PTMs,\n",
    "                   'Sequence': seqLength})\n",
    "\n",
    "# Create Pandas series (vectors...) of the pathogenicity flags\n",
    "# and the associated IDs\n",
    "pathoS = pd.Series(pathoStatus)\n",
    "protId_S = pd.Series(protIds)\n",
    "\n",
    "# Finally, output to the notebook a summary of the dataframe\n",
    "df.describe()                        \n",
    "\n"
   ]
  },
  {
   "cell_type": "markdown",
   "metadata": {},
   "source": [
    "## Generate multi-pannel correlation figure"
   ]
  },
  {
   "cell_type": "code",
   "execution_count": 7,
   "metadata": {
    "collapsed": false
   },
   "outputs": [
    {
     "data": {
      "image/png": "[encoded data removed]",
      "text/plain": [
       "<matplotlib.figure.Figure at 0x11c7a9c10>"
      ]
     },
     "metadata": {},
     "output_type": "display_data"
    }
   ],
   "source": [
    "nrows = 2\n",
    "ncols = 3\n",
    "fig, axes = plt.subplots(nrows=nrows, ncols=ncols)\n",
    "fig.tight_layout(pad=0.4, w_pad=2, h_pad=1.0)\n",
    "SCATTER_SIZE=40\n",
    "LABEL_SIZE = 8\n",
    "idxCol = 0\n",
    "idxRow = 0\n",
    "ALPHA=0.2\n",
    "BORDER_WIDTH=0.2\n",
    "SHOW_LEGEND = False\n",
    "\n",
    "# explicitly set tick labels to overide matplotlib's default spacing\n",
    "TICKS = {'Mutations':np.arange(0,450,100), 'GO':np.arange(0,250,50), 'PTMs':np.arange(0,450,100),'Sequence':np.arange(0,12500,2500)}\n",
    "LIMITS = {'GO':200, 'Mutations':400, 'PTMs':420,'Sequence':10000}\n",
    "KEY_PAIRS = [['Mutations','PTMs'],['PTMs','Sequence'],['Mutations','Sequence'],['GO','Mutations'],['GO','PTMs'],['GO','Sequence']]                                                        \n",
    "\n",
    "# loop generates a 6 pannel subplot\n",
    "for KEY_PAIR in KEY_PAIRS:\n",
    "\n",
    "    # set keys\n",
    "    key1 = KEY_PAIR[0]\n",
    "    key2 = KEY_PAIR[1]\n",
    "\n",
    "    #plt.scatter(df[key1], df[key2],alpha=0.5,lw = 0.1,s=1.5,c='k')\n",
    "    axes[idxRow, idxCol].scatter(df[key1], df[key2], alpha=ALPHA, lw = BORDER_WIDTH,s=SCATTER_SIZE)\n",
    "    axes[idxRow, idxCol].scatter(df[key1][pathoS==1], df[key2][pathoS==1], c='r',alpha=ALPHA, lw = BORDER_WIDTH, s=SCATTER_SIZE)\n",
    "\n",
    "    # set the plot object to the current axis for direct manipulation of plt variables\n",
    "    plt.sca(axes[idxRow, idxCol])\n",
    "    \n",
    "    plt.xlim([0,LIMITS[key1]])\n",
    "    plt.ylim([0,LIMITS[key2]])\n",
    "    \n",
    "    plt.xticks(TICKS[key1])\n",
    "    plt.yticks(TICKS[key2])\n",
    "\n",
    "    # change name for plots\n",
    "    if key1 == 'Sequence':\n",
    "        key1 = 'Protein length'\n",
    "    if key2 == 'Sequence':\n",
    "        key2 = 'Protein length'\n",
    "    \n",
    "    plt.xlabel(key1,size=LABEL_SIZE)\n",
    "    plt.ylabel(key2,size=LABEL_SIZE)\n",
    "    plt.tick_params(axis='x', labelsize=8)\n",
    "    plt.tick_params(axis='y', labelsize=8)\n",
    "    if SHOW_LEGEND:\n",
    "        legend([L1,L2], LEGEND_TEXT,frameon=False,scatterpoints = 1)\n",
    "\n",
    "    # update the row and column counter, resetting\n",
    "    idxCol = idxCol + 1\n",
    "    if idxCol % (ncols) == 0:\n",
    "        idxCol = 0\n",
    "        idxRow += 1\n",
    "\n",
    "savefig(\"TEST_6_pannel_figure2.pdf\",bbox_inches='tight')"
   ]
  },
  {
   "cell_type": "markdown",
   "metadata": {},
   "source": [
    "## Filter for extreme outliers\n",
    "Some proteins (here's looking at you, `p53`) have been extremely well studied and as such could skew statistics by having an order of magnitude more annotations than other proteins. We use the Z-score to remove outliers from the dataset. "
   ]
  },
  {
   "cell_type": "code",
   "execution_count": 14,
   "metadata": {
    "collapsed": false,
    "scrolled": true
   },
   "outputs": [
    {
     "data": {
      "text/plain": [
       "GO            14617\n",
       "Mutations     18629\n",
       "PTMs          16006\n",
       "Sequence     588883\n",
       "dtype: int64"
      ]
     },
     "execution_count": 14,
     "metadata": {},
     "output_type": "execute_result"
    }
   ],
   "source": [
    "if FILTER:\n",
    "    dfFilt = df[(np.abs(stats.zscore(df)) < 20).all(axis=1)]\n",
    "    indexes = df[(np.abs(stats.zscore(df)) < 20).all(axis=1)].index.tolist()\n",
    "    pathoSFilt = pathoS[indexes]\n",
    "    protIdsFilt = protId_S[indexes]\n",
    "    df_path = dfFilt[:][pathoSFilt==1]\n",
    "    df = dfFilt\n",
    "    pathoS = pathoSFilt\n",
    "    protId_S = protIdsFilt\n",
    "    protId_pathoS = protId_S[pathoSFilt==1]\n",
    "else:\n",
    "    df_path = df[:][pathoS==1]  \n",
    "    protId_pathoS = protId_S[pathoS==1]\n",
    "\n",
    "\n",
    "df_path.describe()\n",
    "df_path.sum()"
   ]
  },
  {
   "cell_type": "markdown",
   "metadata": {},
   "source": [
    "## Correlation across annotations (all proteins)"
   ]
  },
  {
   "cell_type": "code",
   "execution_count": 10,
   "metadata": {
    "collapsed": false
   },
   "outputs": [
    {
     "name": "stdout",
     "output_type": "stream",
     "text": [
      "GO and Mutations have correlation \t0.23 with pvalue of 3E-271\n",
      "GO and PTMs have correlation \t0.28 with pvalue of 0E+00\n",
      "GO and Sequence have correlation \t0.04 with pvalue of 1E-08\n",
      "Mutations and PTMs have correlation \t0.15 with pvalue of 3E-113\n",
      "Mutations and Sequence have correlation \t0.19 with pvalue of 4E-185\n",
      "PTMs and Sequence have correlation \t0.46 with pvalue of 0E+00\n",
      "\n"
     ]
    }
   ],
   "source": [
    "rArr = []\n",
    "pArr = []\n",
    "keys = df.columns\n",
    "s = ''\n",
    "for i in range(0, len(keys)):\n",
    "    key1 = keys[i]\n",
    "    for j in range(i+1, len(keys)):\n",
    "        key2 = keys[j]\n",
    "        [r, p] = stats.pearsonr(df[key1], df[key2])\n",
    "        rArr.append(r)\n",
    "        pArr.append(p)\n",
    "        s = \"%s%s and %s have correlation \\t%0.2f with pvalue of %0.E\\n\"%(s, key1, key2, r, p)\n",
    "print s\n",
    "        "
   ]
  },
  {
   "cell_type": "code",
   "execution_count": 11,
   "metadata": {
    "collapsed": false
   },
   "outputs": [
    {
     "data": {
      "text/html": [
       "<div>\n",
       "<table border=\"1\" class=\"dataframe\">\n",
       "  <thead>\n",
       "    <tr style=\"text-align: right;\">\n",
       "      <th></th>\n",
       "      <th>GO</th>\n",
       "      <th>Mutations</th>\n",
       "      <th>PTMs</th>\n",
       "      <th>Sequence</th>\n",
       "    </tr>\n",
       "  </thead>\n",
       "  <tbody>\n",
       "    <tr>\n",
       "      <th>GO</th>\n",
       "      <td>1.000000</td>\n",
       "      <td>0.234234</td>\n",
       "      <td>0.282057</td>\n",
       "      <td>0.038250</td>\n",
       "    </tr>\n",
       "    <tr>\n",
       "      <th>Mutations</th>\n",
       "      <td>0.234234</td>\n",
       "      <td>1.000000</td>\n",
       "      <td>0.151826</td>\n",
       "      <td>0.194026</td>\n",
       "    </tr>\n",
       "    <tr>\n",
       "      <th>PTMs</th>\n",
       "      <td>0.282057</td>\n",
       "      <td>0.151826</td>\n",
       "      <td>1.000000</td>\n",
       "      <td>0.458828</td>\n",
       "    </tr>\n",
       "    <tr>\n",
       "      <th>Sequence</th>\n",
       "      <td>0.038250</td>\n",
       "      <td>0.194026</td>\n",
       "      <td>0.458828</td>\n",
       "      <td>1.000000</td>\n",
       "    </tr>\n",
       "  </tbody>\n",
       "</table>\n",
       "</div>"
      ],
      "text/plain": [
       "                 GO  Mutations      PTMs  Sequence\n",
       "GO         1.000000   0.234234  0.282057  0.038250\n",
       "Mutations  0.234234   1.000000  0.151826  0.194026\n",
       "PTMs       0.282057   0.151826  1.000000  0.458828\n",
       "Sequence   0.038250   0.194026  0.458828  1.000000"
      ]
     },
     "execution_count": 11,
     "metadata": {},
     "output_type": "execute_result"
    }
   ],
   "source": [
    "df.corr()"
   ]
  },
  {
   "cell_type": "markdown",
   "metadata": {},
   "source": [
    "## Correlation across annotations (pathogenic proteins)"
   ]
  },
  {
   "cell_type": "code",
   "execution_count": 12,
   "metadata": {
    "collapsed": false,
    "scrolled": true
   },
   "outputs": [
    {
     "data": {
      "text/html": [
       "<div>\n",
       "<table border=\"1\" class=\"dataframe\">\n",
       "  <thead>\n",
       "    <tr style=\"text-align: right;\">\n",
       "      <th></th>\n",
       "      <th>GO</th>\n",
       "      <th>Mutations</th>\n",
       "      <th>PTMs</th>\n",
       "      <th>Sequence</th>\n",
       "    </tr>\n",
       "  </thead>\n",
       "  <tbody>\n",
       "    <tr>\n",
       "      <th>GO</th>\n",
       "      <td>1.000000</td>\n",
       "      <td>0.186504</td>\n",
       "      <td>0.274064</td>\n",
       "      <td>0.114943</td>\n",
       "    </tr>\n",
       "    <tr>\n",
       "      <th>Mutations</th>\n",
       "      <td>0.186504</td>\n",
       "      <td>1.000000</td>\n",
       "      <td>0.159562</td>\n",
       "      <td>0.268098</td>\n",
       "    </tr>\n",
       "    <tr>\n",
       "      <th>PTMs</th>\n",
       "      <td>0.274064</td>\n",
       "      <td>0.159562</td>\n",
       "      <td>1.000000</td>\n",
       "      <td>0.537793</td>\n",
       "    </tr>\n",
       "    <tr>\n",
       "      <th>Sequence</th>\n",
       "      <td>0.114943</td>\n",
       "      <td>0.268098</td>\n",
       "      <td>0.537793</td>\n",
       "      <td>1.000000</td>\n",
       "    </tr>\n",
       "  </tbody>\n",
       "</table>\n",
       "</div>"
      ],
      "text/plain": [
       "                 GO  Mutations      PTMs  Sequence\n",
       "GO         1.000000   0.186504  0.274064  0.114943\n",
       "Mutations  0.186504   1.000000  0.159562  0.268098\n",
       "PTMs       0.274064   0.159562  1.000000  0.537793\n",
       "Sequence   0.114943   0.268098  0.537793  1.000000"
      ]
     },
     "execution_count": 12,
     "metadata": {},
     "output_type": "execute_result"
    }
   ],
   "source": [
    "df_path.corr()\n"
   ]
  },
  {
   "cell_type": "markdown",
   "metadata": {},
   "source": [
    "## Enrichment in annotations\n",
    "We're going to user Fisher's exact test to ask if there is enrichment in the set of proteins with pathogenic mutations for increased likelihood of having other annotation "
   ]
  },
  {
   "cell_type": "code",
   "execution_count": 13,
   "metadata": {
    "collapsed": false
   },
   "outputs": [
    {
     "name": "stdout",
     "output_type": "stream",
     "text": [
      "\n",
      "Threshold for terms > 0\n",
      "GO:\t\t 1E-98 \t(N=21941, n=777, K=15294, k=765)\n",
      "Mutations:\t\t 1E-212 \t(N=21941, n=777, K=11529, k=777)\n",
      "PTMs:\t\t 1E+00 \t(N=21941, n=777, K=21941, k=777)\n",
      "\n",
      "Threshold for terms > 5\n",
      "GO:\t\t 6E-131 \t(N=21941, n=777, K=9905, k=680)\n",
      "Mutations:\t\t 0E+00 \t(N=21941, n=777, K=2404, k=584)\n",
      "PTMs:\t\t 1E-19 \t(N=21941, n=777, K=12777, k=575)\n",
      "\n",
      "Threshold for terms > 10\n",
      "GO:\t\t 2E-100 \t(N=21941, n=777, K=5927, k=500)\n",
      "Mutations:\t\t 5E-310 \t(N=21941, n=777, K=1057, k=426)\n",
      "PTMs:\t\t 9E-19 \t(N=21941, n=777, K=8428, k=422)\n",
      "\n",
      "Threshold for terms > 15\n",
      "GO:\t\t 2E-70 \t(N=21941, n=777, K=3446, k=335)\n",
      "Mutations:\t\t 4E-259 \t(N=21941, n=777, K=653, k=334)\n",
      "PTMs:\t\t 7E-17 \t(N=21941, n=777, K=5922, k=319)\n",
      "\n",
      "Threshold for terms > 20\n",
      "GO:\t\t 1E-56 \t(N=21941, n=777, K=2122, k=238)\n",
      "Mutations:\t\t 1E-206 \t(N=21941, n=777, K=447, k=260)\n",
      "PTMs:\t\t 2E-11 \t(N=21941, n=777, K=4336, k=233)\n",
      "\n",
      "Threshold for terms > 25\n",
      "GO:\t\t 3E-50 \t(N=21941, n=777, K=1382, k=181)\n",
      "Mutations:\t\t 1E-178 \t(N=21941, n=777, K=346, k=220)\n",
      "PTMs:\t\t 1E-10 \t(N=21941, n=777, K=3273, k=185)\n"
     ]
    }
   ],
   "source": [
    "# Determine the total number of proteins (N) and the number of proteins\n",
    "# with at least one pathogenic mutation (n)\n",
    "N = len(df['Sequence'])\n",
    "n = len(df_path['Sequence'])\n",
    "\n",
    "# get the \n",
    "keys = df.columns\n",
    "numThreshold = range(0, 30, 5)\n",
    "for j in numThreshold:\n",
    "    print \"\\nThreshold for terms > %d\"%(j)\n",
    "    for i in range(0, len(keys)-1):\n",
    "   \n",
    "        K_list = df[df[keys[i]]>j]\n",
    "        k_list = df_path[df_path[keys[i]]>j]\n",
    "        K = len(K_list[keys[i]])\n",
    "        k = len(k_list[keys[i]])\n",
    "        oddsratio, pvalue = stats.fisher_exact([[k, n-k], [K, N-K]], alternative='greater')\n",
    "     \n",
    "        print \"%s:\\t\\t %0.E \\t(N=%d, n=%d, K=%d, k=%d)\"%(keys[i], pvalue, N, n, K, k)\n",
    "\n",
    "    "
   ]
  },
  {
   "cell_type": "markdown",
   "metadata": {},
   "source": [
    "## Save relevant data for enrichment analysis\n",
    "Finally, we save the pathogenic protein data and the pathogenic protein IDs to use in the enrichment analysis "
   ]
  },
  {
   "cell_type": "code",
   "execution_count": 9,
   "metadata": {
    "collapsed": true
   },
   "outputs": [],
   "source": [
    "pickle.dump([df_path, protId_pathoS], open(\"pathoProteins.p\", \"w\"))"
   ]
  },
  {
   "cell_type": "code",
   "execution_count": null,
   "metadata": {
    "collapsed": true
   },
   "outputs": [],
   "source": []
  }
 ],
 "metadata": {
  "kernelspec": {
   "display_name": "Python 2",
   "language": "python",
   "name": "python2"
  },
  "language_info": {
   "codemirror_mode": {
    "name": "ipython",
    "version": 2
   },
   "file_extension": ".py",
   "mimetype": "text/x-python",
   "name": "python",
   "nbconvert_exporter": "python",
   "pygments_lexer": "ipython2",
   "version": "2.7.10"
  }
 },
 "nbformat": 4,
 "nbformat_minor": 0
}
