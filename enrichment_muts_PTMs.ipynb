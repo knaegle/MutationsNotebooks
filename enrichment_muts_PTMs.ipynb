{
 "cells": [
  {
   "cell_type": "markdown",
   "metadata": {},
   "source": [
    "# Are pathogenic mutations more likely to have modifications nearby?\n",
    "In studyBias.ipynb we explored the relationship between annotations, PTMs, and mutations.  We found that there is a clear study bias for proteins that contain pathogenic mutations, having more GO terms, PTMs, and mutations.  Therefore, here we will consider only mutations coming from these heavily studied proteins as we explore the relationship between mutations and nearby PTMs."
   ]
  },
  {
   "cell_type": "code",
   "execution_count": 1,
   "metadata": {
    "collapsed": false
   },
   "outputs": [
    {
     "data": {
      "text/plain": [
       "GO            14961\n",
       "Mutations     21085\n",
       "PTMs          16701\n",
       "Sequence     609126\n",
       "dtype: int64"
      ]
     },
     "execution_count": 1,
     "metadata": {},
     "output_type": "execute_result"
    }
   ],
   "source": [
    "# Setup the workspace, \n",
    "from proteomeScoutAPI import ProteomeScoutAPI\n",
    "import numpy as np\n",
    "from scipy import stats\n",
    "import matplotlib.pyplot as plt\n",
    "from pylab import *\n",
    "import pandas as pd\n",
    "from scipy import stats \n",
    "import pickle\n",
    "import random\n",
    "\n",
    "\n",
    "[df_path, protID_path] = pickle.load(open(\"pathoProteins.p\", \"r\")) #generate this by running studyBias.ipynb first\n",
    "%matplotlib inline\n",
    "proteomeScoutFile = 'proteomescout_mammalia_20150712.tsv'\n",
    "PTM_API = ProteomeScoutAPI(proteomeScoutFile)\n",
    "\n",
    "modWindow = 8 #change this to \n",
    "pValCutoff = 0.05\n",
    "\n",
    "df_path.describe()\n",
    "df_path.sum()\n"
   ]
  },
  {
   "cell_type": "code",
   "execution_count": 2,
   "metadata": {
    "collapsed": false
   },
   "outputs": [
    {
     "data": {
      "text/plain": [
       "ID                  Q8NHX9Q8NHX9Q8NHX9Q8NHX9NP_001701.2NP_001701.2...\n",
       "mod_pos             3764845647349282832321662032422522863233234585...\n",
       "amino acid          KMLGLWWRRSRIGFKKMKKDANSSAMTGCLMDDVSPVVVVVFFFFR...\n",
       "pathoBit                                                         1956\n",
       "Phosphoserine                                                    3359\n",
       "Phosphothreonine                                                 1705\n",
       "Phosphotyrosine                                                  1682\n",
       "N6-acetyllysine                                                  1534\n",
       "Ubiquitination                                                   1365\n",
       "dtype: object"
      ]
     },
     "execution_count": 2,
     "metadata": {},
     "output_type": "execute_result"
    }
   ],
   "source": [
    "#### Create an object of all mutations that exist on proteins that have at least one pathogenic mutation.\n",
    "# Also, add the number of nearby modifications of the major types, where nearby is ste on +/-7 amino acids\n",
    "d = pd.DataFrame(columns=['ID', 'mod_pos', 'amino acid', 'pathoBit', 'Phosphoserine', 'Phosphothreonine', 'Phosphotyrosine',\n",
    "'N6-acetyllysine', 'Ubiquitination'])\n",
    "\n",
    "for ID in protID_path:\n",
    "    mutations = PTM_API.get_mutations(ID)\n",
    "   # print ID\n",
    "    for mut in mutations:\n",
    "        pos, from_res, to_res, patho_status, evidence = mut\n",
    "        \n",
    "        mods = PTM_API.get_nearbyPTMs(ID, int(pos), modWindow)\n",
    "        \n",
    "        pathoBit = 0\n",
    "        if patho_status == 'Pathogenic' or patho_status=='pathogenic':\n",
    "            pathoBit = 1\n",
    "        #vec =   ([ID, pos, from_res, pathoBit], [np.zeros((1,(len(d.columns)-4)))])  \n",
    "        temp = pd.Series({'ID': ID, 'mod_pos':pos, 'amino acid':from_res, 'pathoBit':pathoBit, \n",
    "                            'Phosphoserine':0, 'Phosphothreonine':0, 'Phosphotyrosine':0, 'N6-acetyllysine':0, \n",
    "                            'Ubiquitination':0})\n",
    "        #temp = pd.Series([ID, pos, from_res, pathoBit], [np.zeros((1,(len(d.columns)-4)))], index=d.columns)    \n",
    "        #temp = pd.DataFrame(np.zeros((1,len(mods_d.columns))), columns = mods_d.columns)\n",
    "                    \n",
    "        for mod in mods:\n",
    "            mod_pos, aa, mod_type = mod          \n",
    "            try:\n",
    "                temp[mod_type] +=1\n",
    "            except:\n",
    "                val = 1\n",
    "                #print \"ignoring %s\"%(mod_type)\n",
    "        d = d.append(temp, ignore_index='True') \n",
    "        #print len(d)\n",
    "        \n",
    "d.sum()"
   ]
  },
  {
   "cell_type": "markdown",
   "metadata": {},
   "source": [
    "## Checking for enrichment of mods near pathogenic mutations\n",
    "Here is a description of the mutations and nearby modifications that make up the dataset we will consider, based on those annotations that come from proteins that have at least one pathogenic mutation.  We will use the Fisher Exact test to determine if there are enrichment differences. "
   ]
  },
  {
   "cell_type": "code",
   "execution_count": 3,
   "metadata": {
    "collapsed": false
   },
   "outputs": [
    {
     "data": {
      "text/html": [
       "<div style=\"max-height:1000px;max-width:1500px;overflow:auto;\">\n",
       "<table border=\"1\" class=\"dataframe\">\n",
       "  <thead>\n",
       "    <tr style=\"text-align: right;\">\n",
       "      <th></th>\n",
       "      <th>pathoBit</th>\n",
       "      <th>Phosphoserine</th>\n",
       "      <th>Phosphothreonine</th>\n",
       "      <th>Phosphotyrosine</th>\n",
       "      <th>N6-acetyllysine</th>\n",
       "      <th>Ubiquitination</th>\n",
       "    </tr>\n",
       "  </thead>\n",
       "  <tbody>\n",
       "    <tr>\n",
       "      <th>count</th>\n",
       "      <td> 18528.000000</td>\n",
       "      <td> 18528.000000</td>\n",
       "      <td> 18528.000000</td>\n",
       "      <td> 18528.000000</td>\n",
       "      <td> 18528.000000</td>\n",
       "      <td> 18528.000000</td>\n",
       "    </tr>\n",
       "    <tr>\n",
       "      <th>mean</th>\n",
       "      <td>     0.102332</td>\n",
       "      <td>     0.110481</td>\n",
       "      <td>     0.065468</td>\n",
       "      <td>     0.068059</td>\n",
       "      <td>     0.049763</td>\n",
       "      <td>     0.051004</td>\n",
       "    </tr>\n",
       "    <tr>\n",
       "      <th>std</th>\n",
       "      <td>     0.303092</td>\n",
       "      <td>     0.313497</td>\n",
       "      <td>     0.247357</td>\n",
       "      <td>     0.251854</td>\n",
       "      <td>     0.217460</td>\n",
       "      <td>     0.220012</td>\n",
       "    </tr>\n",
       "    <tr>\n",
       "      <th>min</th>\n",
       "      <td>     0.000000</td>\n",
       "      <td>     0.000000</td>\n",
       "      <td>     0.000000</td>\n",
       "      <td>     0.000000</td>\n",
       "      <td>     0.000000</td>\n",
       "      <td>     0.000000</td>\n",
       "    </tr>\n",
       "    <tr>\n",
       "      <th>25%</th>\n",
       "      <td>     0.000000</td>\n",
       "      <td>     0.000000</td>\n",
       "      <td>     0.000000</td>\n",
       "      <td>     0.000000</td>\n",
       "      <td>     0.000000</td>\n",
       "      <td>     0.000000</td>\n",
       "    </tr>\n",
       "    <tr>\n",
       "      <th>50%</th>\n",
       "      <td>     0.000000</td>\n",
       "      <td>     0.000000</td>\n",
       "      <td>     0.000000</td>\n",
       "      <td>     0.000000</td>\n",
       "      <td>     0.000000</td>\n",
       "      <td>     0.000000</td>\n",
       "    </tr>\n",
       "    <tr>\n",
       "      <th>75%</th>\n",
       "      <td>     0.000000</td>\n",
       "      <td>     0.000000</td>\n",
       "      <td>     0.000000</td>\n",
       "      <td>     0.000000</td>\n",
       "      <td>     0.000000</td>\n",
       "      <td>     0.000000</td>\n",
       "    </tr>\n",
       "    <tr>\n",
       "      <th>max</th>\n",
       "      <td>     1.000000</td>\n",
       "      <td>     1.000000</td>\n",
       "      <td>     1.000000</td>\n",
       "      <td>     1.000000</td>\n",
       "      <td>     1.000000</td>\n",
       "      <td>     1.000000</td>\n",
       "    </tr>\n",
       "  </tbody>\n",
       "</table>\n",
       "</div>"
      ],
      "text/plain": [
       "           pathoBit  Phosphoserine  Phosphothreonine  Phosphotyrosine  \\\n",
       "count  18528.000000   18528.000000      18528.000000     18528.000000   \n",
       "mean       0.102332       0.110481          0.065468         0.068059   \n",
       "std        0.303092       0.313497          0.247357         0.251854   \n",
       "min        0.000000       0.000000          0.000000         0.000000   \n",
       "25%        0.000000       0.000000          0.000000         0.000000   \n",
       "50%        0.000000       0.000000          0.000000         0.000000   \n",
       "75%        0.000000       0.000000          0.000000         0.000000   \n",
       "max        1.000000       1.000000          1.000000         1.000000   \n",
       "\n",
       "       N6-acetyllysine  Ubiquitination  \n",
       "count     18528.000000    18528.000000  \n",
       "mean          0.049763        0.051004  \n",
       "std           0.217460        0.220012  \n",
       "min           0.000000        0.000000  \n",
       "25%           0.000000        0.000000  \n",
       "50%           0.000000        0.000000  \n",
       "75%           0.000000        0.000000  \n",
       "max           1.000000        1.000000  "
      ]
     },
     "execution_count": 3,
     "metadata": {},
     "output_type": "execute_result"
    }
   ],
   "source": [
    "# Select only unique mutations based on protein and position.  Prioritize pathogenicity and binarize nearby mods \n",
    "dCollapse = pd.DataFrame(columns=d.columns)\n",
    "for uniqueKey, row in d.groupby(['ID', 'mod_pos', 'amino acid']):\n",
    "    temp = pd.DataFrame([[uniqueKey[0], uniqueKey[1], uniqueKey[2], int(row['pathoBit'].sum() > 0), \n",
    "                         int(row['Phosphoserine'].sum() > 0), int(row['Phosphothreonine'].sum() > 0), \n",
    "                        int(row['Phosphotyrosine'].sum() > 0), int(row['N6-acetyllysine'].sum() > 0), \n",
    "                       int(row['Ubiquitination'].sum() > 0)]], columns=dCollapse.columns)\n",
    "    dCollapse = dCollapse.append(temp)\n",
    "dCollapse.describe()"
   ]
  },
  {
   "cell_type": "code",
   "execution_count": 4,
   "metadata": {
    "collapsed": false
   },
   "outputs": [],
   "source": [
    "def FDR(pArr, alpha):\n",
    "    #return a Q value for significant values in pArr for a target FDR of alpha\n",
    "    cm = 1\n",
    "    m = len(pArr)\n",
    "    pValSort = sorted(pArr, key=lambda x: float(x))\n",
    "    #print pValSort\n",
    "    pAdj = 0; #assuming there are no rejected hypotheses at all, unless updated\n",
    "    for i in range (0, len(pValSort)):\n",
    "        pi = pValSort[i]\n",
    "        j = i+1;\n",
    "        #print \"Comparing %0.E to %0.2f\"%(pi, (j*alpha/m))\n",
    "        if(pi <= (j*alpha/m)):\n",
    "            pAdj = pi\n",
    "        else:\n",
    "            return pAdj"
   ]
  },
  {
   "cell_type": "code",
   "execution_count": 5,
   "metadata": {
    "collapsed": false
   },
   "outputs": [],
   "source": [
    "def printPathoModStats(d):\n",
    "\n",
    "# Check for enrichment of pathogenic mutations near sites of modifications\n",
    "    N = len(d['pathoBit'])\n",
    "    K = d['pathoBit'].sum()\n",
    "    pvalueArr = []\n",
    "    strSig = ''\n",
    "    alpha = 0.05\n",
    "    for mods in d.columns[-5:]:\n",
    "        n = len(d[d[mods]==1])\n",
    "       \n",
    "        k = len(d[(d['pathoBit']==1) & (d[mods]==1)])\n",
    "        oddsratio, pvalue = stats.fisher_exact([[k, n-k], [K, N-K]], alternative='greater')\n",
    "        pvalueArr.append(pvalue)\n",
    "        strSig = ''\n",
    "        if pvalue <= alpha:\n",
    "            strSig = '*'\n",
    "        print \"%2s %17s:\\t %2.E \\t(N=%d, n=%d, K=%d, k=%d)\"%(strSig, mods, pvalue, N, n, K, k)\n",
    "        \n",
    "    p_adjust = FDR(pvalueArr, alpha)\n",
    "    print \"adjusted p-value is %0.3f\"%(p_adjust)\n",
    "\n",
    "        \n",
    "    \n"
   ]
  },
  {
   "cell_type": "code",
   "execution_count": 6,
   "metadata": {
    "collapsed": false
   },
   "outputs": [
    {
     "name": "stdout",
     "output_type": "stream",
     "text": [
      " *     Phosphoserine:\t 2E-02 \t(N=18528, n=2047, K=1896, k=242)\n",
      " *  Phosphothreonine:\t 2E-02 \t(N=18528, n=1213, K=1896, k=148)\n",
      " *   Phosphotyrosine:\t 3E-02 \t(N=18528, n=1261, K=1896, k=151)\n",
      "     N6-acetyllysine:\t 3E-01 \t(N=18528, n=922, K=1896, k=100)\n",
      " *    Ubiquitination:\t 2E-07 \t(N=18528, n=945, K=1896, k=149)\n",
      "adjusted p-value is 0.029\n"
     ]
    }
   ],
   "source": [
    "printPathoModStats(dCollapse)"
   ]
  },
  {
   "cell_type": "markdown",
   "metadata": {},
   "source": [
    "# What is the distribution of amino acid types\n",
    "Is there anything significant about the type of amino acids mutated and associated with pathogenicity?"
   ]
  },
  {
   "cell_type": "code",
   "execution_count": 7,
   "metadata": {
    "collapsed": false
   },
   "outputs": [
    {
     "name": "stdout",
     "output_type": "stream",
     "text": [
      "  F:\t 2E-04 \t(N=18528, n=498, K=1896, k=27)\n",
      "  I:\t 2E-04 \t(N=18528, n=742, K=1896, k=46)\n",
      "  R:\t 2E-15 \t(N=18528, n=2677, K=1896, k=418)\n"
     ]
    }
   ],
   "source": [
    "# for each unique amino acid calculate whether there is over or under-representation (two-tailed test)\n",
    "N = len(dCollapse['pathoBit'])\n",
    "K = dCollapse['pathoBit'].sum()\n",
    "runningSumCheck = 0\n",
    "aaDict = {}\n",
    "for uniqueKey, row in dCollapse.groupby(['amino acid']):\n",
    "    aa = uniqueKey[0]\n",
    "    n = len(dCollapse[dCollapse['amino acid']==aa])\n",
    "    aaDict[aa] = n\n",
    "    runningSumCheck += n\n",
    "    k = len(dCollapse[(dCollapse['amino acid']==aa) & (dCollapse['pathoBit']==1)])\n",
    "    oddsratio, pvalue = stats.fisher_exact([[k, n-k], [K, N-K]])\n",
    "    if pvalue <= pValCutoff/20: #Bonferroni correction, alpha at 0.05\n",
    "        print \"%3s:\\t %0.E \\t(N=%d, n=%d, K=%d, k=%d)\"%(aa, pvalue, N, n, K, k)\n",
    "if runningSumCheck != N:\n",
    "    print \"Error in Parity: Sum is %d instead of %d\"%(runningSumCheck, N)\n",
    "    \n",
    "\n"
   ]
  },
  {
   "cell_type": "code",
   "execution_count": 9,
   "metadata": {
    "collapsed": false
   },
   "outputs": [
    {
     "name": "stdout",
     "output_type": "stream",
     "text": [
      "Printing observed enrichments for random sets. Remember expected rate of seeing a p-value <=0.05 is 2.75 times\n",
      "Run 1\n",
      "       Phosphoserine:\t 3E-01 \t(N=18528, n=2047, K=1896, k=217)\n",
      "    Phosphothreonine:\t 6E-02 \t(N=18528, n=1213, K=1896, k=142)\n",
      "     Phosphotyrosine:\t 1E+00 \t(N=18528, n=1261, K=1896, k=111)\n",
      "     N6-acetyllysine:\t 8E-01 \t(N=18528, n=922, K=1896, k=87)\n",
      "      Ubiquitination:\t 1E-01 \t(N=18528, n=945, K=1896, k=109)\n",
      "adjusted p-value is 0.000\n",
      "Run 2\n",
      "       Phosphoserine:\t 7E-01 \t(N=18528, n=2047, K=1896, k=203)\n",
      "    Phosphothreonine:\t 1E+00 \t(N=18528, n=1213, K=1896, k=105)\n",
      "     Phosphotyrosine:\t 1E+00 \t(N=18528, n=1261, K=1896, k=110)\n",
      "     N6-acetyllysine:\t 1E+00 \t(N=18528, n=922, K=1896, k=75)\n",
      "      Ubiquitination:\t 8E-01 \t(N=18528, n=945, K=1896, k=88)\n",
      "adjusted p-value is 0.000\n",
      "Run 3\n",
      "       Phosphoserine:\t 2E-01 \t(N=18528, n=2047, K=1896, k=222)\n",
      "    Phosphothreonine:\t 6E-01 \t(N=18528, n=1213, K=1896, k=123)\n",
      "     Phosphotyrosine:\t 8E-01 \t(N=18528, n=1261, K=1896, k=119)\n",
      "     N6-acetyllysine:\t 4E-01 \t(N=18528, n=922, K=1896, k=96)\n",
      "      Ubiquitination:\t 6E-01 \t(N=18528, n=945, K=1896, k=95)\n",
      "adjusted p-value is 0.000\n",
      "Run 4\n",
      "       Phosphoserine:\t 7E-01 \t(N=18528, n=2047, K=1896, k=204)\n",
      "    Phosphothreonine:\t 4E-01 \t(N=18528, n=1213, K=1896, k=126)\n",
      "     Phosphotyrosine:\t 2E-01 \t(N=18528, n=1261, K=1896, k=141)\n",
      "     N6-acetyllysine:\t 4E-01 \t(N=18528, n=922, K=1896, k=96)\n",
      "      Ubiquitination:\t 3E-01 \t(N=18528, n=945, K=1896, k=102)\n",
      "adjusted p-value is 0.000\n",
      "Run 5\n",
      "       Phosphoserine:\t 5E-02 \t(N=18528, n=2047, K=1896, k=234)\n",
      "    Phosphothreonine:\t 6E-01 \t(N=18528, n=1213, K=1896, k=123)\n",
      "     Phosphotyrosine:\t 5E-01 \t(N=18528, n=1261, K=1896, k=130)\n",
      "     N6-acetyllysine:\t 2E-01 \t(N=18528, n=922, K=1896, k=102)\n",
      "      Ubiquitination:\t 5E-01 \t(N=18528, n=945, K=1896, k=96)\n",
      "adjusted p-value is 0.000\n",
      "Run 6\n",
      "       Phosphoserine:\t 4E-01 \t(N=18528, n=2047, K=1896, k=213)\n",
      "    Phosphothreonine:\t 7E-02 \t(N=18528, n=1213, K=1896, k=141)\n",
      "     Phosphotyrosine:\t 7E-01 \t(N=18528, n=1261, K=1896, k=123)\n",
      " *   N6-acetyllysine:\t 1E-02 \t(N=18528, n=922, K=1896, k=116)\n",
      "      Ubiquitination:\t 7E-01 \t(N=18528, n=945, K=1896, k=91)\n",
      "adjusted p-value is 0.000\n",
      "Run 7\n",
      "       Phosphoserine:\t 6E-01 \t(N=18528, n=2047, K=1896, k=205)\n",
      "    Phosphothreonine:\t 3E-01 \t(N=18528, n=1213, K=1896, k=129)\n",
      "     Phosphotyrosine:\t 5E-01 \t(N=18528, n=1261, K=1896, k=130)\n",
      "     N6-acetyllysine:\t 6E-01 \t(N=18528, n=922, K=1896, k=93)\n",
      "      Ubiquitination:\t 4E-01 \t(N=18528, n=945, K=1896, k=99)\n",
      "adjusted p-value is 0.000\n",
      "Run 8\n",
      "       Phosphoserine:\t 3E-01 \t(N=18528, n=2047, K=1896, k=218)\n",
      "    Phosphothreonine:\t 5E-01 \t(N=18528, n=1213, K=1896, k=124)\n",
      "     Phosphotyrosine:\t 7E-01 \t(N=18528, n=1261, K=1896, k=125)\n",
      "     N6-acetyllysine:\t 8E-01 \t(N=18528, n=922, K=1896, k=88)\n",
      "      Ubiquitination:\t 5E-01 \t(N=18528, n=945, K=1896, k=97)\n",
      "adjusted p-value is 0.000\n",
      "Run 9\n",
      "       Phosphoserine:\t 6E-01 \t(N=18528, n=2047, K=1896, k=208)\n",
      "    Phosphothreonine:\t 6E-01 \t(N=18528, n=1213, K=1896, k=123)\n",
      "     Phosphotyrosine:\t 3E-01 \t(N=18528, n=1261, K=1896, k=136)\n",
      "     N6-acetyllysine:\t 9E-01 \t(N=18528, n=922, K=1896, k=83)\n",
      "      Ubiquitination:\t 8E-01 \t(N=18528, n=945, K=1896, k=90)\n",
      "adjusted p-value is 0.000\n",
      "Run 10\n",
      "       Phosphoserine:\t 6E-01 \t(N=18528, n=2047, K=1896, k=205)\n",
      "    Phosphothreonine:\t 2E-01 \t(N=18528, n=1213, K=1896, k=135)\n",
      "     Phosphotyrosine:\t 1E+00 \t(N=18528, n=1261, K=1896, k=111)\n",
      "     N6-acetyllysine:\t 8E-01 \t(N=18528, n=922, K=1896, k=87)\n",
      "      Ubiquitination:\t 6E-01 \t(N=18528, n=945, K=1896, k=95)\n",
      "adjusted p-value is 0.000\n"
     ]
    }
   ],
   "source": [
    "# since there is a misbalance for arginines as having pathogenicity, check to see if enrichment in nearby mods for any \n",
    "# randomly selected set based on selecting for the same distribution of amino acids.  \n",
    "\n",
    "#create a new set based on selecting random permutations of the lsits that define particular amino acid types\n",
    "# rebuild a fake patho set that is defined based on distribution of amino acids then check for enrichment of nearby mods\n",
    "numRepeats = 11\n",
    "print \"Printing observed enrichments for random sets. Remember expected rate of seeing a p-value <=%0.2f is %1.2f times\"%(pValCutoff, pValCutoff*5*numRepeats)\n",
    "for i in range(1,numRepeats):\n",
    "    dS = pd.DataFrame(columns=dCollapse.columns)\n",
    "    for uniqueKey, row in dCollapse.groupby(['amino acid']):\n",
    "        aa = uniqueKey[0]\n",
    "        aaMuts = dCollapse[dCollapse['amino acid']==aa]\n",
    "    #print aaMuts[:4]\n",
    "        aaShuffled = aaMuts.iloc[np.random.permutation(aaDict[aa])]\n",
    "\n",
    "    #set the first \"n\" as patho and all others as zeros\n",
    "    #aaShuffled.loc[:aaDict[aa], 'pathoBit'] = 1\n",
    "        num = len(dCollapse[(dCollapse['amino acid']==aa) & (dCollapse['pathoBit']==1)])\n",
    "        aaShuffled.loc[:num, 'pathoBit'] = 1\n",
    "        aaShuffled.loc[-(len(aaMuts)-num):, 'pathoBit'] = 0\n",
    "        if num != aaShuffled['pathoBit'].sum():\n",
    "            print \"Problem for %s: wanted %d and retrieved %d\"%(aa, num, aaShuffled['pathoBit'].sum())\n",
    "            print \"\\t number of amino acids in set is %d and I have length of set %d\"%(aaDict[aa], len(aaShuffled))\n",
    "        dS = dS.append(aaShuffled)\n",
    "    #now print enrichment\n",
    "    print \"Run %d\"%(i)\n",
    "    printPathoModStats(dS)"
   ]
  },
  {
   "cell_type": "code",
   "execution_count": null,
   "metadata": {
    "collapsed": true
   },
   "outputs": [],
   "source": []
  }
 ],
 "metadata": {
  "kernelspec": {
   "display_name": "Python 2",
   "language": "python",
   "name": "python2"
  },
  "language_info": {
   "codemirror_mode": {
    "name": "ipython",
    "version": 2
   },
   "file_extension": ".py",
   "mimetype": "text/x-python",
   "name": "python",
   "nbconvert_exporter": "python",
   "pygments_lexer": "ipython2",
   "version": "2.7.9"
  }
 },
 "nbformat": 4,
 "nbformat_minor": 0
}
